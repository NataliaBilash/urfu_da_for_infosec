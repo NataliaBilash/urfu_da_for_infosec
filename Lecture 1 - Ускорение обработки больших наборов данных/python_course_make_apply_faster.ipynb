{
  "cells": [
    {
      "cell_type": "code",
      "execution_count": null,
      "metadata": {
        "id": "Cb61Jk_Ik3Tl"
      },
      "outputs": [],
      "source": [
        "!pip install pandarallel\n",
        "!pip install mapply\n",
        "!pip install parallel-pandas\n",
        "!pip install swifter"
      ]
    },
    {
      "cell_type": "code",
      "execution_count": null,
      "metadata": {
        "id": "KkSxdlsQoofT"
      },
      "outputs": [],
      "source": [
        "import pandas as pd\n",
        "import numpy as np"
      ]
    },
    {
      "cell_type": "code",
      "execution_count": null,
      "metadata": {
        "id": "cqWwTErCk98F",
        "outputId": "7608a1a1-2a3c-42ca-cf3d-dc29a9a2f524"
      },
      "outputs": [
        {
          "data": {
            "text/html": [
              "<div>\n",
              "<style scoped>\n",
              "    .dataframe tbody tr th:only-of-type {\n",
              "        vertical-align: middle;\n",
              "    }\n",
              "\n",
              "    .dataframe tbody tr th {\n",
              "        vertical-align: top;\n",
              "    }\n",
              "\n",
              "    .dataframe thead th {\n",
              "        text-align: right;\n",
              "    }\n",
              "</style>\n",
              "<table border=\"1\" class=\"dataframe\">\n",
              "  <thead>\n",
              "    <tr style=\"text-align: right;\">\n",
              "      <th></th>\n",
              "      <th>A</th>\n",
              "      <th>B</th>\n",
              "      <th>C</th>\n",
              "      <th>D</th>\n",
              "    </tr>\n",
              "  </thead>\n",
              "  <tbody>\n",
              "    <tr>\n",
              "      <th>0</th>\n",
              "      <td>15717</td>\n",
              "      <td>160562</td>\n",
              "      <td>128098</td>\n",
              "      <td>64733</td>\n",
              "    </tr>\n",
              "    <tr>\n",
              "      <th>1</th>\n",
              "      <td>344066</td>\n",
              "      <td>871680</td>\n",
              "      <td>941889</td>\n",
              "      <td>247481</td>\n",
              "    </tr>\n",
              "    <tr>\n",
              "      <th>2</th>\n",
              "      <td>867017</td>\n",
              "      <td>864091</td>\n",
              "      <td>172550</td>\n",
              "      <td>122544</td>\n",
              "    </tr>\n",
              "    <tr>\n",
              "      <th>3</th>\n",
              "      <td>30682</td>\n",
              "      <td>545861</td>\n",
              "      <td>152821</td>\n",
              "      <td>631295</td>\n",
              "    </tr>\n",
              "    <tr>\n",
              "      <th>4</th>\n",
              "      <td>800535</td>\n",
              "      <td>432760</td>\n",
              "      <td>328987</td>\n",
              "      <td>567701</td>\n",
              "    </tr>\n",
              "  </tbody>\n",
              "</table>\n",
              "</div>"
            ],
            "text/plain": [
              "        A       B       C       D\n",
              "0   15717  160562  128098   64733\n",
              "1  344066  871680  941889  247481\n",
              "2  867017  864091  172550  122544\n",
              "3   30682  545861  152821  631295\n",
              "4  800535  432760  328987  567701"
            ]
          },
          "execution_count": 7,
          "metadata": {},
          "output_type": "execute_result"
        }
      ],
      "source": [
        "df = pd.DataFrame(np.random.randint(1, 10**6, size=(10**7, 4)), columns = list(\"ABCD\"))\n",
        "df.head()"
      ]
    },
    {
      "cell_type": "code",
      "execution_count": null,
      "metadata": {
        "id": "9cQWy2kIk9_D",
        "outputId": "91f4f160-a1a4-4d9a-dca0-e33eddd5cd0f"
      },
      "outputs": [
        {
          "data": {
            "text/plain": [
              "(10000000, 4)"
            ]
          },
          "execution_count": 8,
          "metadata": {},
          "output_type": "execute_result"
        }
      ],
      "source": [
        "df.shape"
      ]
    },
    {
      "cell_type": "code",
      "execution_count": null,
      "metadata": {
        "id": "BIhRQtiWk-Bx"
      },
      "outputs": [],
      "source": [
        "def sum_row(row):\n",
        "    return sum(row)"
      ]
    },
    {
      "cell_type": "code",
      "execution_count": null,
      "metadata": {
        "id": "tF35hk4RoofW",
        "outputId": "457f4d32-06e8-4c34-9965-32d7222199d1"
      },
      "outputs": [
        {
          "data": {
            "text/plain": [
              "12"
            ]
          },
          "execution_count": 13,
          "metadata": {},
          "output_type": "execute_result"
        }
      ],
      "source": [
        "from os import cpu_count\n",
        "\n",
        "n_cores = cpu_count()\n",
        "n_cores"
      ]
    },
    {
      "cell_type": "markdown",
      "metadata": {
        "id": "EhE2P9ctlBWK"
      },
      "source": [
        "#### Нативный .apply"
      ]
    },
    {
      "cell_type": "code",
      "execution_count": null,
      "metadata": {
        "id": "W5sUBwGYk-Dn",
        "outputId": "ceaa9fca-2fbd-4145-f87d-cd0f19613c98"
      },
      "outputs": [
        {
          "name": "stdout",
          "output_type": "stream",
          "text": [
            "CPU times: total: 36.7 s\n",
            "Wall time: 36.7 s\n"
          ]
        }
      ],
      "source": [
        "%%time\n",
        "\n",
        "res = df.apply(sum_row, axis=1)"
      ]
    },
    {
      "cell_type": "markdown",
      "metadata": {
        "id": "DbsBZ3X2lCRp"
      },
      "source": [
        "#### Pandarallel"
      ]
    },
    {
      "cell_type": "code",
      "execution_count": null,
      "metadata": {
        "id": "zdpZBu-5lAea",
        "outputId": "32af1f7f-8c1e-4761-c612-234159ec8cb6"
      },
      "outputs": [
        {
          "name": "stdout",
          "output_type": "stream",
          "text": [
            "INFO: Pandarallel will run on 12 workers.\n",
            "INFO: Pandarallel will use standard multiprocessing data transfer (pipe) to transfer data between the main process and workers.\n",
            "\n",
            "WARNING: You are on Windows. If you detect any issue with pandarallel, be sure you checked out the Troubleshooting page:\n",
            "https://nalepae.github.io/pandarallel/troubleshooting/\n"
          ]
        }
      ],
      "source": [
        "from pandarallel import pandarallel\n",
        "\n",
        "pandarallel.initialize(progress_bar=True, nb_workers=n_cores)"
      ]
    },
    {
      "cell_type": "code",
      "execution_count": null,
      "metadata": {
        "id": "gifxnP7vlAhe",
        "outputId": "5ef03776-5d1f-4ac2-bd03-4f36bfe8470b",
        "colab": {
          "referenced_widgets": [
            "ab7cb8bc2df34e5bbce07786df63f4cb"
          ]
        }
      },
      "outputs": [
        {
          "data": {
            "application/vnd.jupyter.widget-view+json": {
              "model_id": "ab7cb8bc2df34e5bbce07786df63f4cb",
              "version_major": 2,
              "version_minor": 0
            },
            "text/plain": [
              "VBox(children=(HBox(children=(IntProgress(value=0, description='0.00%', max=833334), Label(value='0 / 833334')…"
            ]
          },
          "metadata": {},
          "output_type": "display_data"
        },
        {
          "name": "stdout",
          "output_type": "stream",
          "text": [
            "CPU times: total: 1.64 s\n",
            "Wall time: 14.6 s\n"
          ]
        }
      ],
      "source": [
        "%%time\n",
        "\n",
        "res = df.parallel_apply(sum_row, axis=1)"
      ]
    },
    {
      "cell_type": "markdown",
      "metadata": {
        "id": "c1h4qjlGlDyx"
      },
      "source": [
        "#### Parallel-Pandas Apply"
      ]
    },
    {
      "cell_type": "code",
      "execution_count": null,
      "metadata": {
        "id": "BRTBGpoTlAkT"
      },
      "outputs": [],
      "source": [
        "from parallel_pandas import ParallelPandas"
      ]
    },
    {
      "cell_type": "code",
      "execution_count": null,
      "metadata": {
        "id": "WoyAcEiYlAm6"
      },
      "outputs": [],
      "source": [
        "ParallelPandas.initialize(n_cpu=n_cores, split_factor=4, disable_pr_bar=False)"
      ]
    },
    {
      "cell_type": "code",
      "execution_count": null,
      "metadata": {
        "id": "oHSDaKkglAqM",
        "outputId": "9400b60e-7097-402a-de56-62ca84e2a3e5",
        "colab": {
          "referenced_widgets": [
            "cabc4011ba1545eaa8719e4522316c80"
          ]
        }
      },
      "outputs": [
        {
          "data": {
            "application/vnd.jupyter.widget-view+json": {
              "model_id": "cabc4011ba1545eaa8719e4522316c80",
              "version_major": 2,
              "version_minor": 0
            },
            "text/plain": [
              "SUM_ROW DONE:   0%|          | 0/10000000 [00:00<?, ?it/s]"
            ]
          },
          "metadata": {},
          "output_type": "display_data"
        }
      ],
      "source": [
        "res = df.p_apply(sum_row, axis=1)"
      ]
    },
    {
      "cell_type": "markdown",
      "metadata": {
        "id": "T5E6O9hxlFWy"
      },
      "source": [
        "#### Mapply Apply"
      ]
    },
    {
      "cell_type": "code",
      "execution_count": null,
      "metadata": {
        "id": "TLX3unkAlAtt"
      },
      "outputs": [],
      "source": [
        "import mapply"
      ]
    },
    {
      "cell_type": "code",
      "execution_count": null,
      "metadata": {
        "id": "ZK06B0QklGOf"
      },
      "outputs": [],
      "source": [
        "mapply.init(\n",
        "    n_workers=n_cores,\n",
        "    chunk_size=100,\n",
        "    max_chunks_per_worker=8,\n",
        "    progressbar=True\n",
        ")"
      ]
    },
    {
      "cell_type": "code",
      "execution_count": null,
      "metadata": {
        "id": "c8pSZvSJlGQr",
        "outputId": "806e148d-b4d2-4075-eec9-d029a20a7a72",
        "colab": {
          "referenced_widgets": [
            "cd29a137c2d641e98293058dabb4a609"
          ]
        }
      },
      "outputs": [
        {
          "name": "stderr",
          "output_type": "stream",
          "text": [
            "Using more workers (12) than is sensible (7). For CPU-bound operations, consider lowering n_workers to avoid bottlenecks on the physical CPUs\n"
          ]
        },
        {
          "data": {
            "application/vnd.jupyter.widget-view+json": {
              "model_id": "cd29a137c2d641e98293058dabb4a609",
              "version_major": 2,
              "version_minor": 0
            },
            "text/plain": [
              "  0%|                                                                                                         …"
            ]
          },
          "metadata": {},
          "output_type": "display_data"
        },
        {
          "name": "stdout",
          "output_type": "stream",
          "text": [
            "CPU times: total: 1.83 s\n",
            "Wall time: 14.2 s\n"
          ]
        }
      ],
      "source": [
        "%%time\n",
        "\n",
        "res = df.mapply(sum_row, axis=1)"
      ]
    },
    {
      "cell_type": "markdown",
      "metadata": {
        "id": "Pz_CuzfRlGS4"
      },
      "source": [
        "#### Swifter Apply"
      ]
    },
    {
      "cell_type": "code",
      "execution_count": null,
      "metadata": {
        "id": "fupsi30Noofb"
      },
      "outputs": [],
      "source": [
        "import swifter"
      ]
    },
    {
      "cell_type": "code",
      "execution_count": null,
      "metadata": {
        "id": "V2qcg9qeoofb",
        "outputId": "32968cb9-32ab-4f90-918f-d6e64f8654e0",
        "colab": {
          "referenced_widgets": [
            "4a912f1a79764def80581dc7b7763d7f"
          ]
        }
      },
      "outputs": [
        {
          "data": {
            "application/vnd.jupyter.widget-view+json": {
              "model_id": "4a912f1a79764def80581dc7b7763d7f",
              "version_major": 2,
              "version_minor": 0
            },
            "text/plain": [
              "Dask Apply:   0%|          | 0/24 [00:00<?, ?it/s]"
            ]
          },
          "metadata": {},
          "output_type": "display_data"
        }
      ],
      "source": [
        "%%time\n",
        "\n",
        "res = df.swifter.apply(sum_row, axis=1)"
      ]
    },
    {
      "cell_type": "code",
      "execution_count": null,
      "metadata": {
        "id": "oU87WE5voofb"
      },
      "outputs": [],
      "source": []
    }
  ],
  "metadata": {
    "colab": {
      "provenance": []
    },
    "kernelspec": {
      "display_name": "Python 3 (ipykernel)",
      "language": "python",
      "name": "python3"
    },
    "language_info": {
      "codemirror_mode": {
        "name": "ipython",
        "version": 3
      },
      "file_extension": ".py",
      "mimetype": "text/x-python",
      "name": "python",
      "nbconvert_exporter": "python",
      "pygments_lexer": "ipython3",
      "version": "3.8.6"
    }
  },
  "nbformat": 4,
  "nbformat_minor": 0
}